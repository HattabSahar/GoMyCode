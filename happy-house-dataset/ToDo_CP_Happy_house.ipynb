{
 "cells": [
  {
   "cell_type": "markdown",
   "metadata": {
    "colab_type": "text",
    "id": "2th5H5b1hbcS"
   },
   "source": [
    "# If you happy and I know it you can enter my House \n",
    "\n",
    "You'll see how you can in a couple of hours build a deep learning algorithm."
   ]
  },
  {
   "cell_type": "code",
   "execution_count": 1,
   "metadata": {
    "colab": {
     "base_uri": "https://localhost:8080/",
     "height": 73
    },
    "colab_type": "code",
    "id": "MuU-RPhvflcW",
    "outputId": "d28295fe-ea4e-4da2-9f7e-b276c2543574"
   },
   "outputs": [],
   "source": [
    "import numpy as np\n",
    "from sklearn.metrics import confusion_matrix\n",
    "import seaborn as sns\n",
    "import h5py\n",
    "from keras import layers\n",
    "from keras.layers import Input, Dense, Activation, ZeroPadding2D, BatchNormalization, Flatten, Conv2D\n",
    "from keras.layers import AveragePooling2D, MaxPooling2D, Dropout, GlobalMaxPooling2D, GlobalAveragePooling2D\n",
    "from keras.models import Model\n",
    "from keras.preprocessing import image\n",
    "from keras.utils import layer_utils\n",
    "from keras.utils.data_utils import get_file\n",
    "from keras.applications.imagenet_utils import preprocess_input\n",
    "from keras.models import Sequential\n",
    "\n",
    "import pydot\n",
    "from IPython.display import SVG\n",
    "\n",
    "\n",
    "import keras.backend as K\n",
    "K.set_image_data_format('channels_last')\n",
    "import matplotlib.pyplot as plt\n",
    "from matplotlib.pyplot import imshow\n"
   ]
  },
  {
   "cell_type": "code",
   "execution_count": 2,
   "metadata": {
    "colab": {},
    "colab_type": "code",
    "id": "4Z7gBX7YfTRL"
   },
   "outputs": [],
   "source": [
    "def load_dataset(path_to_train, path_to_test):\n",
    "    train_dataset = h5py.File(path_to_train)\n",
    "    train_x = np.array(train_dataset['train_set_x'][:])\n",
    "    train_y = np.array(train_dataset['train_set_y'][:])\n",
    "\n",
    "    test_dataset = h5py.File(path_to_test)\n",
    "    test_x = np.array(test_dataset['test_set_x'][:])\n",
    "    test_y = np.array(test_dataset['test_set_y'][:])\n",
    "\n",
    "    # y reshaped\n",
    "    train_y = train_y.reshape((1, train_x.shape[0]))\n",
    "    test_y = test_y.reshape((1, test_y.shape[0]))\n",
    "\n",
    "    return train_x, train_y, test_x, test_y"
   ]
  },
  {
   "cell_type": "markdown",
   "metadata": {
    "colab_type": "text",
    "id": "s0shUMnCg9GK"
   },
   "source": [
    "This dataset can be used to solve the Happy House problem.\n",
    "Where, we allow a person to enter the house only if he/she is smiling!\n",
    "So, a smile detector!\n"
   ]
  },
  {
   "cell_type": "markdown",
   "metadata": {
    "colab_type": "text",
    "id": "LF7js4UdhO0F"
   },
   "source": [
    "![Texte alternatif…](https://raw.githubusercontent.com/Kulbear/deep-learning-coursera/master/Convolutional%20Neural%20Networks/images/house-members.png)"
   ]
  },
  {
   "cell_type": "markdown",
   "metadata": {
    "colab_type": "text",
    "id": "roksQQtvizn4"
   },
   "source": [
    "\n",
    "\n",
    "Details of the \"Happy\" dataset:\n",
    "\n",
    "* Images are of shape (64,64,3)\n",
    "* Training: 600 pictures\n",
    "* Test: 150 pictures\n"
   ]
  },
  {
   "cell_type": "markdown",
   "metadata": {
    "colab_type": "text",
    "id": "z9hCBeyJi--_"
   },
   "source": [
    "# Load Dataset"
   ]
  },
  {
   "cell_type": "code",
   "execution_count": 3,
   "metadata": {
    "colab": {
     "base_uri": "https://localhost:8080/",
     "height": 216
    },
    "colab_type": "code",
    "id": "nOZo0cNbg8ts",
    "outputId": "6a0c4a30-23e8-4b60-f37f-d74aedca03b5"
   },
   "outputs": [
    {
     "name": "stdout",
     "output_type": "stream",
     "text": [
      "number of training examples = 600\n",
      "number of test examples = 150\n",
      "X_train shape: (600, 64, 64, 3)\n",
      "Y_train shape: (600, 1)\n",
      "X_test shape: (150, 64, 64, 3)\n",
      "Y_test shape: (150, 1)\n"
     ]
    }
   ],
   "source": [
    "X_train_orig, Y_train_orig, X_test_orig, Y_test_orig = load_dataset(\"train_happy.h5\",\"test_happy.h5\")\n",
    "\n",
    "# Normalize image vectors\n",
    "X_train = X_train_orig/255.\n",
    "X_test = X_test_orig/255.\n",
    "\n",
    "# Reshape\n",
    "Y_train = Y_train_orig.T\n",
    "Y_test = Y_test_orig.T\n",
    "\n",
    "print (\"number of training examples = \" + str(X_train.shape[0]))\n",
    "print (\"number of test examples = \" + str(X_test.shape[0]))\n",
    "print (\"X_train shape: \" + str(X_train.shape))\n",
    "print (\"Y_train shape: \" + str(Y_train.shape))\n",
    "print (\"X_test shape: \" + str(X_test.shape))\n",
    "print (\"Y_test shape: \" + str(Y_test.shape))"
   ]
  },
  {
   "cell_type": "code",
   "execution_count": 4,
   "metadata": {
    "colab": {
     "base_uri": "https://localhost:8080/",
     "height": 304
    },
    "colab_type": "code",
    "id": "RALj5hk4gMXB",
    "outputId": "236220f5-9ab4-496b-ff54-9a3595c76b2e"
   },
   "outputs": [
    {
     "name": "stdout",
     "output_type": "stream",
     "text": [
      "Image shape : (64, 64, 3)\n"
     ]
    },
    {
     "data": {
      "text/plain": [
       "<matplotlib.image.AxesImage at 0x287e42f3190>"
      ]
     },
     "execution_count": 4,
     "metadata": {},
     "output_type": "execute_result"
    },
    {
     "data": {
      "image/png": "[encoded data removed]",
      "text/plain": [
       "<Figure size 432x288 with 1 Axes>"
      ]
     },
     "metadata": {
      "needs_background": "light"
     },
     "output_type": "display_data"
    }
   ],
   "source": [
    "# Sample image from dataset\n",
    "print(\"Image shape :\",X_train_orig[10].shape)\n",
    "imshow(X_train_orig[10])"
   ]
  },
  {
   "cell_type": "markdown",
   "metadata": {
    "colab_type": "text",
    "id": "vQNZh4XxjCiB"
   },
   "source": [
    "# Building Model"
   ]
  },
  {
   "cell_type": "markdown",
   "metadata": {
    "colab_type": "text",
    "id": "IJJpc1lppa_m"
   },
   "source": [
    "_________________________________________________________________\n",
    "\n",
    "conv2d_3 (Conv2D)            (None, 64, 64, 32)        4736      \n",
    "_________________________________________________________________\n",
    "batch_normalization_2 (Batch (None, 64, 64, 32)        128       \n",
    "_________________________________________________________________\n",
    "max_pooling2d_2 (MaxPooling2 (None, 32, 32, 32)        0         \n",
    "_________________________________________________________________\n",
    "flatten_2 (Flatten)          (None, 32768)             0         \n",
    "_________________________________________________________________\n",
    "dense_2 (Dense)              (None, 1)                 32769     \n",
    "_________________________________________________________________\n",
    "\n"
   ]
  },
  {
   "cell_type": "code",
   "execution_count": 5,
   "metadata": {
    "colab": {},
    "colab_type": "code",
    "id": "j1YT0k2rkvAM"
   },
   "outputs": [
    {
     "name": "stdout",
     "output_type": "stream",
     "text": [
      "Model: \"sequential\"\n",
      "_________________________________________________________________\n",
      " Layer (type)                Output Shape              Param #   \n",
      "=================================================================\n",
      " conv2d (Conv2D)             (None, 64, 64, 32)        128       \n",
      "                                                                 \n",
      " batch_normalization (BatchN  (None, 64, 64, 32)       128       \n",
      " ormalization)                                                   \n",
      "                                                                 \n",
      " max_pooling2d (MaxPooling2D  (None, 32, 32, 32)       0         \n",
      " )                                                               \n",
      "                                                                 \n",
      " flatten (Flatten)           (None, 32768)             0         \n",
      "                                                                 \n",
      " dense (Dense)               (None, 1)                 32769     \n",
      "                                                                 \n",
      "=================================================================\n",
      "Total params: 33,025\n",
      "Trainable params: 32,961\n",
      "Non-trainable params: 64\n",
      "_________________________________________________________________\n"
     ]
    }
   ],
   "source": [
    "model=Sequential()\n",
    "model.add(Conv2D(32,kernel_size=(1,1),activation='relu',input_shape=(64,64,3)))\n",
    "model.add(BatchNormalization(axis = 3))\n",
    "model.add(MaxPooling2D(pool_size=(2,2)))\n",
    "model.add(Flatten())\n",
    "model.add(Dense(1, activation='sigmoid'))\n",
    "\n",
    "model.summary()"
   ]
  },
  {
   "cell_type": "code",
   "execution_count": 6,
   "metadata": {
    "colab": {},
    "colab_type": "code",
    "id": "3CtQ3d7pmdEU"
   },
   "outputs": [],
   "source": [
    "model.compile(optimizer='adam', loss='binary_crossentropy', metrics=[\"accuracy\"])"
   ]
  },
  {
   "cell_type": "code",
   "execution_count": 7,
   "metadata": {
    "colab": {
     "base_uri": "https://localhost:8080/",
     "height": 196
    },
    "colab_type": "code",
    "id": "JJzOsVQnmsz0",
    "outputId": "2e3656cd-a67e-42d0-9ce7-f358aebb75b7"
   },
   "outputs": [
    {
     "name": "stdout",
     "output_type": "stream",
     "text": [
      "Epoch 1/5\n",
      "600/600 [==============================] - 3s 4ms/step - loss: 0.7165 - accuracy: 0.8033 - val_loss: 0.4624 - val_accuracy: 0.8267\n",
      "Epoch 2/5\n",
      "600/600 [==============================] - 2s 4ms/step - loss: 0.2099 - accuracy: 0.9183 - val_loss: 0.3244 - val_accuracy: 0.8400\n",
      "Epoch 3/5\n",
      "600/600 [==============================] - 2s 3ms/step - loss: 0.2004 - accuracy: 0.9333 - val_loss: 0.4070 - val_accuracy: 0.8867\n",
      "Epoch 4/5\n",
      "600/600 [==============================] - 2s 3ms/step - loss: 0.1969 - accuracy: 0.9300 - val_loss: 0.5138 - val_accuracy: 0.8867\n",
      "Epoch 5/5\n",
      "600/600 [==============================] - 2s 3ms/step - loss: 0.1649 - accuracy: 0.9600 - val_loss: 0.1634 - val_accuracy: 0.9467\n"
     ]
    }
   ],
   "source": [
    "history_model=model.fit(X_train, Y_train,epochs=5,batch_size=1, validation_data = (X_test, Y_test))"
   ]
  },
  {
   "cell_type": "markdown",
   "metadata": {
    "colab_type": "text",
    "id": "MZFI90ydpx0n"
   },
   "source": [
    "# Evaluate / Test"
   ]
  },
  {
   "cell_type": "code",
   "execution_count": 8,
   "metadata": {
    "colab": {
     "base_uri": "https://localhost:8080/",
     "height": 299
    },
    "colab_type": "code",
    "id": "xV8Jav30myg0",
    "outputId": "2b6d9f46-94b0-40bd-a200-897c20127007"
   },
   "outputs": [
    {
     "data": {
      "text/plain": [
       "<matplotlib.legend.Legend at 0x287efad1d60>"
      ]
     },
     "execution_count": 8,
     "metadata": {},
     "output_type": "execute_result"
    },
    {
     "data": {
      "image/png": "[encoded data removed]",
      "text/plain": [
       "<Figure size 432x288 with 1 Axes>"
      ]
     },
     "metadata": {
      "needs_background": "light"
     },
     "output_type": "display_data"
    }
   ],
   "source": [
    "train_accuracy = history_model.history['accuracy']\n",
    "train_loss = history_model.history['loss']\n",
    "\n",
    "count = range(len(train_accuracy))\n",
    "plt.plot(count, train_accuracy, label='Training accuracy')\n",
    "plt.plot(count, train_loss, label='Training Loss')\n",
    "plt.title('epochs vs Training Loss')\n",
    "plt.legend()"
   ]
  },
  {
   "cell_type": "markdown",
   "metadata": {
    "colab_type": "text",
    "id": "gBOEETB6qD3L"
   },
   "source": [
    "Evaluate Test set"
   ]
  },
  {
   "cell_type": "code",
   "execution_count": 9,
   "metadata": {
    "colab": {},
    "colab_type": "code",
    "id": "VNuzxr58m6bI"
   },
   "outputs": [
    {
     "name": "stdout",
     "output_type": "stream",
     "text": [
      "5/5 [==============================] - 0s 15ms/step - loss: 0.1634 - accuracy: 0.9467\n",
      "\n",
      "Loss = 0.16335627436637878\n",
      "Test Accuracy = 0.9466666579246521\n"
     ]
    }
   ],
   "source": [
    "preds = model.evaluate(x=X_test, y=Y_test, batch_size=32, verbose=1)\n",
    "print()\n",
    "print (\"Loss = \" + str(preds[0]))\n",
    "print (\"Test Accuracy = \" + str(preds[1]))\n",
    "\n"
   ]
  },
  {
   "cell_type": "markdown",
   "metadata": {
    "colab_type": "text",
    "id": "hFC1nz5_p33b"
   },
   "source": [
    "Confusion Matrix"
   ]
  },
  {
   "cell_type": "code",
   "execution_count": 10,
   "metadata": {
    "colab": {},
    "colab_type": "code",
    "id": "iflIgFgnnIfv"
   },
   "outputs": [
    {
     "data": {
      "text/plain": [
       "array([[64,  2],\n",
       "       [ 6, 78]], dtype=int64)"
      ]
     },
     "execution_count": 10,
     "metadata": {},
     "output_type": "execute_result"
    }
   ],
   "source": [
    "confusion_matrix(Y_test, np.round(model.predict(X_test).flatten()))"
   ]
  },
  {
   "cell_type": "markdown",
   "metadata": {
    "colab_type": "text",
    "id": "QQKL1aDLqjqU"
   },
   "source": [
    "# Note\n",
    "\n",
    "Before you submit your work \n",
    "\n",
    "* You should compare different optimizers\n",
    "\n",
    "---\n",
    "\n",
    "* Display images with Predicted & expected labels (Happy-sad)\n"
   ]
  },
  {
   "cell_type": "code",
   "execution_count": 22,
   "metadata": {},
   "outputs": [
    {
     "name": "stdout",
     "output_type": "stream",
     "text": [
      "HAPPY:  [[1.]]\n"
     ]
    },
    {
     "data": {
      "image/png": "[encoded data removed]",
      "text/plain": [
       "<Figure size 432x288 with 1 Axes>"
      ]
     },
     "metadata": {
      "needs_background": "light"
     },
     "output_type": "display_data"
    }
   ],
   "source": [
    "img = X_train_orig[2]\n",
    "imshow(img)\n",
    "\n",
    "x = image.img_to_array(img)\n",
    "x = np.expand_dims(x, axis=0)\n",
    "x = preprocess_input(x)\n",
    "\n",
    "if(model.predict(x)>0.5):\n",
    "    print (\"HAPPY: \",model.predict(x))\n",
    "else:\n",
    "    print(\"SAD: \", model.predict(x))"
   ]
  },
  {
   "cell_type": "code",
   "execution_count": null,
   "metadata": {},
   "outputs": [],
   "source": []
  }
 ],
 "metadata": {
  "colab": {
   "collapsed_sections": [],
   "name": "ToDo_CP_Happy house.ipynb",
   "provenance": []
  },
  "kernelspec": {
   "display_name": "Python 3 (ipykernel)",
   "language": "python",
   "name": "python3"
  },
  "language_info": {
   "codemirror_mode": {
    "name": "ipython",
    "version": 3
   },
   "file_extension": ".py",
   "mimetype": "text/x-python",
   "name": "python",
   "nbconvert_exporter": "python",
   "pygments_lexer": "ipython3",
   "version": "3.9.7"
  }
 },
 "nbformat": 4,
 "nbformat_minor": 1
}
